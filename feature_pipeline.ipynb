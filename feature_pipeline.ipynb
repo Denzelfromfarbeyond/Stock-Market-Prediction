{
 "cells": [
  {
   "cell_type": "markdown",
   "source": [],
   "metadata": {
    "collapsed": false,
    "pycharm": {
     "name": "#%% md\n"
    }
   }
  },
  {
   "cell_type": "markdown",
   "source": [
    "##### Authors: Alexander Mo & Tommaso Lucarelli\n",
    "\n",
    "# Feature pipeline for Yahoo Finance data\n",
    "This pipeline takes a set of stock market ticker symbols and retrieves historical data and statistics from Yahoo Finance. The data is then processed to fit the training pipeline's LSTM network. Upon processing the data, the features will be stored using Google Drive where they can be retrieved on demand.\n",
    "\n",
    "Code is written to run on Google Colab.\n",
    "##### NOTE: Ensure the feature_engineering folder is in the mounted drive and current directory"
   ],
   "metadata": {
    "collapsed": false,
    "pycharm": {
     "name": "#%% md\n"
    }
   }
  },
  {
   "cell_type": "code",
   "execution_count": null,
   "outputs": [
    {
     "output_type": "stream",
     "name": "stdout",
     "text": [
      "Looking in indexes: https://pypi.org/simple, https://us-python.pkg.dev/colab-wheels/public/simple/\n",
      "Requirement already satisfied: yfinance in /usr/local/lib/python3.9/dist-packages (0.2.3)\n",
      "Requirement already satisfied: beautifulsoup4>=4.11.1 in /usr/local/lib/python3.9/dist-packages (from yfinance) (4.11.1)\n",
      "Requirement already satisfied: appdirs>=1.4.4 in /usr/local/lib/python3.9/dist-packages (from yfinance) (1.4.4)\n",
      "Requirement already satisfied: frozendict>=2.3.4 in /usr/local/lib/python3.9/dist-packages (from yfinance) (2.3.4)\n",
      "Requirement already satisfied: pytz>=2022.5 in /usr/local/lib/python3.9/dist-packages (from yfinance) (2022.7)\n",
      "Requirement already satisfied: lxml>=4.9.1 in /usr/local/lib/python3.9/dist-packages (from yfinance) (4.9.2)\n",
      "Requirement already satisfied: multitasking>=0.0.7 in /usr/local/lib/python3.9/dist-packages (from yfinance) (0.0.11)\n",
      "Requirement already satisfied: cryptography>=3.3.2 in /usr/local/lib/python3.9/dist-packages (from yfinance) (39.0.0)\n",
      "Requirement already satisfied: numpy>=1.16.5 in /usr/local/lib/python3.9/dist-packages (from yfinance) (1.24.1)\n",
      "Requirement already satisfied: requests>=2.26 in /usr/local/lib/python3.9/dist-packages (from yfinance) (2.28.1)\n",
      "Requirement already satisfied: pandas>=1.3.0 in /usr/local/lib/python3.9/dist-packages (from yfinance) (1.5.2)\n",
      "Requirement already satisfied: html5lib>=1.1 in /usr/local/lib/python3.9/dist-packages (from yfinance) (1.1)\n",
      "Requirement already satisfied: soupsieve>1.2 in /usr/local/lib/python3.9/dist-packages (from beautifulsoup4>=4.11.1->yfinance) (2.3.2.post1)\n",
      "Requirement already satisfied: cffi>=1.12 in /usr/local/lib/python3.9/dist-packages (from cryptography>=3.3.2->yfinance) (1.15.1)\n",
      "Requirement already satisfied: six>=1.9 in /usr/local/lib/python3.9/dist-packages (from html5lib>=1.1->yfinance) (1.16.0)\n",
      "Requirement already satisfied: webencodings in /usr/local/lib/python3.9/dist-packages (from html5lib>=1.1->yfinance) (0.5.1)\n",
      "Requirement already satisfied: python-dateutil>=2.8.1 in /usr/local/lib/python3.9/dist-packages (from pandas>=1.3.0->yfinance) (2.8.2)\n",
      "Requirement already satisfied: charset-normalizer<3,>=2 in /usr/local/lib/python3.9/dist-packages (from requests>=2.26->yfinance) (2.1.1)\n",
      "Requirement already satisfied: urllib3<1.27,>=1.21.1 in /usr/local/lib/python3.9/dist-packages (from requests>=2.26->yfinance) (1.26.13)\n",
      "Requirement already satisfied: idna<4,>=2.5 in /usr/local/lib/python3.9/dist-packages (from requests>=2.26->yfinance) (3.4)\n",
      "Requirement already satisfied: certifi>=2017.4.17 in /usr/local/lib/python3.9/dist-packages (from requests>=2.26->yfinance) (2022.12.7)\n",
      "Requirement already satisfied: pycparser in /usr/local/lib/python3.9/dist-packages (from cffi>=1.12->cryptography>=3.3.2->yfinance) (2.21)\n",
      "\u001B[33mWARNING: Running pip as the 'root' user can result in broken permissions and conflicting behaviour with the system package manager. It is recommended to use a virtual environment instead: https://pip.pypa.io/warnings/venv\u001B[0m\u001B[33m\n",
      "\u001B[0mLooking in indexes: https://pypi.org/simple, https://us-python.pkg.dev/colab-wheels/public/simple/\n",
      "Requirement already satisfied: pandas in /usr/local/lib/python3.9/dist-packages (1.5.2)\n",
      "Requirement already satisfied: numpy>=1.20.3 in /usr/local/lib/python3.9/dist-packages (from pandas) (1.24.1)\n",
      "Requirement already satisfied: python-dateutil>=2.8.1 in /usr/local/lib/python3.9/dist-packages (from pandas) (2.8.2)\n",
      "Requirement already satisfied: pytz>=2020.1 in /usr/local/lib/python3.9/dist-packages (from pandas) (2022.7)\n",
      "Requirement already satisfied: six>=1.5 in /usr/local/lib/python3.9/dist-packages (from python-dateutil>=2.8.1->pandas) (1.16.0)\n",
      "\u001B[33mWARNING: Running pip as the 'root' user can result in broken permissions and conflicting behaviour with the system package manager. It is recommended to use a virtual environment instead: https://pip.pypa.io/warnings/venv\u001B[0m\u001B[33m\n",
      "\u001B[0m"
     ]
    }
   ],
   "source": [
    "!pip install yfinance --upgrade --no-cache-dir\n",
    "!pip install pandas"
   ],
   "metadata": {
    "collapsed": false,
    "pycharm": {
     "name": "#%%\n"
    }
   }
  },
  {
   "cell_type": "code",
   "execution_count": 3,
   "outputs": [],
   "source": [
    "import yfinance as yf\n",
    "import pandas as pd\n",
    "from random import randint"
   ],
   "metadata": {
    "collapsed": false,
    "pycharm": {
     "name": "#%%\n"
    }
   }
  },
  {
   "cell_type": "code",
   "execution_count": 4,
   "outputs": [],
   "source": [
    "# Not needed with yfinance on Python 3.9\n",
    "\n",
    "def parseMonth(month):\n",
    "    \"\"\"\n",
    "    Function to parse the string of a month from the earnings date\n",
    "    :param month: string with the given month\n",
    "    :return: the number corresponding to the month in datetime format\n",
    "    \"\"\"\n",
    "    if month == 'Jan':\n",
    "        return 1\n",
    "    elif month == 'Feb':\n",
    "        return 2\n",
    "    elif month == 'Mar':\n",
    "        return 3\n",
    "    elif month == 'Apr':\n",
    "        return 4\n",
    "    elif month == 'May':\n",
    "        return 5\n",
    "    elif month == 'Jun':\n",
    "        return 6\n",
    "    elif month == 'Jul':\n",
    "        return 7\n",
    "    elif month == 'Aug':\n",
    "        return 8\n",
    "    elif month == 'Sep':\n",
    "        return 9\n",
    "    elif month == 'Oct':\n",
    "        return 10\n",
    "    elif month == 'Nov':\n",
    "        return 11\n",
    "    else:\n",
    "        return 12\n",
    "\n",
    "# Not needed with yfinance on Python 3.9\n",
    "def convertEarningsDate(df):\n",
    "    \"\"\"\n",
    "    Function to convert the earnings date format to datetime\n",
    "    :param df: dataframe containing the earnings history\n",
    "    :return: dataframe updated with the parsed datetime as date\n",
    "    \"\"\"\n",
    "    test = [None]*len(df)\n",
    "    for i in range(len(df)):\n",
    "        temp = df.loc[i, \"Earnings Date\"].split(', ')\n",
    "        temp = [x.strip() for x in temp]\n",
    "        temp = (temp[0] + ' ' + temp[1]).split(' ')\n",
    "        test[i] = [temp[2], parseMonth(temp[0]), temp[1]]\n",
    "    dt = pd.DataFrame(test, columns=['year', 'month', 'day'])\n",
    "    df['Earnings Date'] = pd.to_datetime(dt)\n",
    "    return df"
   ],
   "metadata": {
    "collapsed": false,
    "pycharm": {
     "name": "#%%\n"
    }
   }
  },
  {
   "cell_type": "markdown",
   "source": [
    "### Functions to process the data of a stock into the right format\n",
    "Final dataframe contains all necessary columns for the model in the right format and dtype."
   ],
   "metadata": {
    "collapsed": false,
    "pycharm": {
     "name": "#%% md\n"
    }
   }
  },
  {
   "cell_type": "code",
   "execution_count": 5,
   "outputs": [],
   "source": [
    "from feature_engineering.prod_feature_functions import getEarnings, getHistory, getRelEarnings, getHistWithEarnings, dropIrrelevant"
   ],
   "metadata": {
    "collapsed": false,
    "pycharm": {
     "name": "#%%\n"
    }
   }
  },
  {
   "cell_type": "markdown",
   "source": [
    "### Functions for selecting stocks and formatting"
   ],
   "metadata": {
    "collapsed": false,
    "pycharm": {
     "name": "#%% md\n"
    }
   }
  },
  {
   "cell_type": "code",
   "execution_count": 6,
   "outputs": [],
   "source": [
    "def stockToCSV(symbol, period='1mo', interval='15m'):\n",
    "    \"\"\"\n",
    "    Functions to write stock information to CSV\n",
    "    :param symbol: ticker symbol of the company\n",
    "    :param period: over what time period the history data should be taken\n",
    "    :param interval: how often a sample is taken over the period\n",
    "    :return:\n",
    "    \"\"\"\n",
    "    stock = yf.Ticker(symbol)\n",
    "    earnings = getEarnings(stock)\n",
    "    # earnings = convertEarningsDate(earnings)\n",
    "    hist = getHistory(symbol, stock, period=period, interval=interval)\n",
    "    rel_earnings = getRelEarnings(earnings, hist)\n",
    "    hist = getHistWithEarnings(rel_earnings, hist)\n",
    "    hist = dropIrrelevant(hist)\n",
    "    hist.to_csv('./data/' + symbol)\n",
    "\n",
    "def stockToDf(symbol, earnings, period='1mo', interval='15m'):\n",
    "    \"\"\"\n",
    "    Functions to write stock information to CSV\n",
    "    :param symbol: ticker symbol of the company\n",
    "    :param earnings: dataframe containing the respective earnings\n",
    "    :param period: over what time period the history data should be taken\n",
    "    :param interval: how often a sample is taken over the period\n",
    "    :return:\n",
    "    \"\"\"\n",
    "    stock = yf.Ticker(symbol)\n",
    "    # earnings = getEarnings(stock)\n",
    "    hist = getHistory(symbol, stock, period=period, interval=interval)\n",
    "    rel_earnings = getRelEarnings(earnings, hist)\n",
    "    hist = getHistWithEarnings(rel_earnings, hist)\n",
    "    hist = dropIrrelevant(hist)\n",
    "    return hist\n",
    "\n",
    "def getStocks():\n",
    "    \"\"\"\n",
    "    Get all stock symbols listed on Nasdaq\n",
    "    :return: list with symbols\n",
    "    \"\"\"\n",
    "    df = pd.read_table('http://www.nasdaqtrader.com/dynamic/symdir/nasdaqlisted.txt')\n",
    "    # local run\n",
    "    # df = pd.read_table('tickers.txt')\n",
    "    symbols = [None]*len(df)\n",
    "    for idx, line in df.iterrows():\n",
    "        symbols[idx] = line[0].split('|')[0]\n",
    "    return symbols\n",
    "\n",
    "def selectStocks(stocks, n):\n",
    "    \"\"\"\n",
    "    Select n random stocks from the list\n",
    "    :param stocks: list of company symbols\n",
    "    :param n: number of companies to select\n",
    "    :return: selected symbols\n",
    "    \"\"\"\n",
    "    idxs = []\n",
    "    selected = [None]*n\n",
    "    earnings = [None]*n\n",
    "    counter = 0\n",
    "    while len(idxs) < n:\n",
    "        temp_int = randint(0, len(stocks))\n",
    "        if len(stocks) == n:\n",
    "            temp_int = counter\n",
    "        if temp_int not in idxs:\n",
    "            earn = getEarnings(yf.Ticker(stocks[temp_int]))\n",
    "            if earn is not None:\n",
    "                idxs.append(temp_int)\n",
    "                selected[counter] = stocks[temp_int]\n",
    "                earnings[counter] = earn\n",
    "                counter += 1\n",
    "    return selected, earnings\n",
    "\n",
    "def selectAll(stocks):\n",
    "    \"\"\"\n",
    "    Select all stocks which have enough data on yfinance listed on the Nasdaq list\n",
    "    :param stocks: list of company symbols fom Nasdaq\n",
    "    :return: current symbols\n",
    "    \"\"\"\n",
    "    selected = []\n",
    "    earnings = []\n",
    "    for stock in stocks:\n",
    "        try:\n",
    "            temp = getEarnings(yf.Ticker(stock))\n",
    "        except:\n",
    "            print('error loading the stock')\n",
    "        if temp is not None:\n",
    "            selected.append(stock)\n",
    "            earnings.append(temp)\n",
    "    return selected, earnings\n"
   ],
   "metadata": {
    "collapsed": false,
    "pycharm": {
     "name": "#%%\n"
    }
   }
  },
  {
   "cell_type": "markdown",
   "source": [
    "### Run and store features on Google Drive"
   ],
   "metadata": {
    "collapsed": false,
    "pycharm": {
     "name": "#%% md\n"
    }
   }
  },
  {
   "cell_type": "code",
   "execution_count": null,
   "outputs": [
    {
     "output_type": "stream",
     "name": "stdout",
     "text": [
      "Drive already mounted at /gdrive; to attempt to forcibly remount, call drive.mount(\"/gdrive\", force_remount=True).\n",
      "/gdrive/MyDrive/Scalable/Project/feature_store\n"
     ]
    }
   ],
   "source": [
    "from google.colab import drive\n",
    "drive.mount('/gdrive')\n",
    "\n",
    "%cd /gdrive/MyDrive/Scalable/Project/feature_store"
   ],
   "metadata": {
    "collapsed": false,
    "pycharm": {
     "name": "#%%\n"
    }
   }
  },
  {
   "cell_type": "code",
   "execution_count": 14,
   "outputs": [],
   "source": [
    "# PARAMETERS FOR RUN\n",
    "SET = False\n",
    "N = 5\n",
    "ONE_CSV = True\n",
    "PATH = './small_test.csv'\n",
    "\n",
    "def runAll(n):\n",
    "    stocks = getStocks()\n",
    "    if SET:\n",
    "        selected, earnings = selectStocks(stocks, n)\n",
    "    else:\n",
    "        stocks = ['AAPL', 'TSLA', 'AMZN']\n",
    "        selected, earnings = selectStocks(stocks, len(stocks))\n",
    "    if ONE_CSV:\n",
    "        df = pd.DataFrame()\n",
    "        for idx, stock in enumerate(selected):\n",
    "            df = df.append(stockToDf(selected[idx], earnings[idx]))\n",
    "        df.reset_index(drop=True, inplace=True)\n",
    "        with open(PATH, 'w', encoding = 'utf-8-sig') as f:\n",
    "            df.to_csv(f, index=False)\n",
    "            f.close()\n",
    "        print('File successfully saved.')\n",
    "    else:\n",
    "        for stock in selected:\n",
    "            stockToCSV(stock)\n"
   ],
   "metadata": {
    "collapsed": false,
    "pycharm": {
     "name": "#%%\n"
    }
   }
  },
  {
   "cell_type": "code",
   "execution_count": 15,
   "outputs": [
    {
     "name": "stderr",
     "output_type": "stream",
     "text": [
      "C:\\Users\\alexa\\AppData\\Local\\Temp\\ipykernel_7792\\2254210986.py:17: FutureWarning: The frame.append method is deprecated and will be removed from pandas in a future version. Use pandas.concat instead.\n",
      "  df = df.append(stockToDf(selected[idx], earnings[idx]))\n",
      "C:\\Users\\alexa\\AppData\\Local\\Temp\\ipykernel_7792\\2254210986.py:17: FutureWarning: The frame.append method is deprecated and will be removed from pandas in a future version. Use pandas.concat instead.\n",
      "  df = df.append(stockToDf(selected[idx], earnings[idx]))\n"
     ]
    },
    {
     "name": "stdout",
     "output_type": "stream",
     "text": [
      "File successfully saved.\n"
     ]
    },
    {
     "name": "stderr",
     "output_type": "stream",
     "text": [
      "C:\\Users\\alexa\\AppData\\Local\\Temp\\ipykernel_7792\\2254210986.py:17: FutureWarning: The frame.append method is deprecated and will be removed from pandas in a future version. Use pandas.concat instead.\n",
      "  df = df.append(stockToDf(selected[idx], earnings[idx]))\n"
     ]
    }
   ],
   "source": [
    "runAll(N)"
   ],
   "metadata": {
    "collapsed": false,
    "pycharm": {
     "name": "#%%\n"
    }
   }
  },
  {
   "cell_type": "code",
   "execution_count": null,
   "outputs": [],
   "source": [],
   "metadata": {
    "collapsed": false,
    "pycharm": {
     "name": "#%%\n"
    }
   }
  }
 ],
 "metadata": {
  "kernelspec": {
   "display_name": "Python 3",
   "language": "python",
   "name": "python3"
  },
  "language_info": {
   "codemirror_mode": {
    "name": "ipython",
    "version": 2
   },
   "file_extension": ".py",
   "mimetype": "text/x-python",
   "name": "python",
   "nbconvert_exporter": "python",
   "pygments_lexer": "ipython2",
   "version": "2.7.6"
  }
 },
 "nbformat": 4,
 "nbformat_minor": 0
}